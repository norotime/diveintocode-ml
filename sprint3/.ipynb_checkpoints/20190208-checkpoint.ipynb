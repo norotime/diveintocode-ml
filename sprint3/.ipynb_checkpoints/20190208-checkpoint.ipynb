{
 "cells": [
  {
   "cell_type": "code",
   "execution_count": 39,
   "metadata": {},
   "outputs": [],
   "source": [
    "import numpy as np\n",
    "import matplotlib.pyplot as plt"
   ]
  },
  {
   "cell_type": "code",
   "execution_count": 40,
   "metadata": {},
   "outputs": [],
   "source": [
    "# サンプルデータ\n",
    "X = np.array([0.02, 0.12, 0.19, 0.27, 0.42, 0.51, 0.64, 0.84, 0.88, 0.99])\n",
    "t = np.array([0.05, 0.87, 0.94, 0.92, 0.54, -0.11, -0.78, -0.89, -0.79, -0.04])"
   ]
  },
  {
   "cell_type": "code",
   "execution_count": 56,
   "metadata": {},
   "outputs": [
    {
     "name": "stdout",
     "output_type": "stream",
     "text": [
      "[0.02 0.12 0.19 0.27 0.42 0.51 0.64 0.84 0.88 0.99]\n"
     ]
    }
   ],
   "source": [
    "print(X)\n",
    "X = np.c_[X,t]"
   ]
  },
  {
   "cell_type": "code",
   "execution_count": 42,
   "metadata": {},
   "outputs": [
    {
     "name": "stdout",
     "output_type": "stream",
     "text": [
      "[ 0.05  0.87  0.94  0.92  0.54 -0.11 -0.78 -0.89 -0.79 -0.04]\n"
     ]
    }
   ],
   "source": [
    "print(t)"
   ]
  },
  {
   "cell_type": "code",
   "execution_count": 6,
   "metadata": {},
   "outputs": [],
   "source": [
    "# 多項式基底の定義\n",
    "def phi(x):\n",
    "    return [1, x, x**2, x**3]"
   ]
  },
  {
   "cell_type": "code",
   "execution_count": 7,
   "metadata": {},
   "outputs": [],
   "source": [
    "# 行列Φ\n",
    "PHI = np.array([phi(x) for x in X])"
   ]
  },
  {
   "cell_type": "code",
   "execution_count": 9,
   "metadata": {},
   "outputs": [
    {
     "name": "stdout",
     "output_type": "stream",
     "text": [
      "[[1.00000e+00 2.00000e-02 4.00000e-04 8.00000e-06]\n",
      " [1.00000e+00 1.20000e-01 1.44000e-02 1.72800e-03]\n",
      " [1.00000e+00 1.90000e-01 3.61000e-02 6.85900e-03]\n",
      " [1.00000e+00 2.70000e-01 7.29000e-02 1.96830e-02]\n",
      " [1.00000e+00 4.20000e-01 1.76400e-01 7.40880e-02]\n",
      " [1.00000e+00 5.10000e-01 2.60100e-01 1.32651e-01]\n",
      " [1.00000e+00 6.40000e-01 4.09600e-01 2.62144e-01]\n",
      " [1.00000e+00 8.40000e-01 7.05600e-01 5.92704e-01]\n",
      " [1.00000e+00 8.80000e-01 7.74400e-01 6.81472e-01]\n",
      " [1.00000e+00 9.90000e-01 9.80100e-01 9.70299e-01]]\n"
     ]
    }
   ],
   "source": [
    "print(PHI)"
   ]
  },
  {
   "cell_type": "code",
   "execution_count": 10,
   "metadata": {},
   "outputs": [],
   "source": [
    "# パラメータwを推定する数式\n",
    "\n",
    "# 逆行列を求めるnp.linalg.inv関数\n",
    "w = np.dot(np.linalg.inv(np.dot(PHI.T, PHI)), np.dot(PHI.T, t))\n",
    "\n",
    "# 連立方程式の解を求めるnp.linalg.solve関数\n",
    "# np.linalg.solve(A, b) は A^{-1}b を返す\n",
    "w = np.linalg.solve(np.dot(PHI.T, PHI), np.dot(PHI.T, t)) "
   ]
  },
  {
   "cell_type": "code",
   "execution_count": 12,
   "metadata": {},
   "outputs": [
    {
     "name": "stdout",
     "output_type": "stream",
     "text": [
      "[ -0.1445875   11.58956694 -33.87843698  22.54195201]\n"
     ]
    }
   ],
   "source": [
    "# print w で w の中身を確認すると：\n",
    "print(w)"
   ]
  },
  {
   "cell_type": "code",
   "execution_count": 13,
   "metadata": {},
   "outputs": [],
   "source": [
    "# 関数f(x)\n",
    "# (式 1) の場合\n",
    "def f(w, x):\n",
    "    return np.dot(w, phi(x))"
   ]
  },
  {
   "cell_type": "code",
   "execution_count": 14,
   "metadata": {},
   "outputs": [],
   "source": [
    "# (式 3) の場合\n",
    "def f(w, x):\n",
    "    return w[0] + w[1] * x + w[2] * (x ** 2) + w[3] * (x ** 3)"
   ]
  },
  {
   "cell_type": "code",
   "execution_count": 60,
   "metadata": {},
   "outputs": [],
   "source": [
    "xlist = np.arange(0, 1, 0.01)\n",
    "ylist = [f(w, x) for x in xlist]"
   ]
  },
  {
   "cell_type": "code",
   "execution_count": 63,
   "metadata": {},
   "outputs": [
    {
     "data": {
      "image/png": "[encoded data removed]",
      "text/plain": [
       "<Figure size 432x288 with 1 Axes>"
      ]
     },
     "metadata": {
      "needs_background": "light"
     },
     "output_type": "display_data"
    }
   ],
   "source": [
    "plt.plot(xlist, ylist)\n",
    "plt.plot(X, t, 'o')\n",
    "plt.show()"
   ]
  },
  {
   "cell_type": "code",
   "execution_count": 57,
   "metadata": {},
   "outputs": [],
   "source": [
    "def _linear_hypothesis(X):\n",
    "    \"\"\"\n",
    "    線形の仮定関数を計算する\n",
    "\n",
    "    Parameters\n",
    "    ----------\n",
    "    X : 次の形のndarray, shape (n_samples, n_features)\n",
    "      学習データ\n",
    "\n",
    "    Returns\n",
    "    -------\n",
    "      次の形のndarray, shape (n_samples, 1)\n",
    "      線形の仮定関数による推定結果\n",
    "\n",
    "    \"\"\"\n",
    "    # Xの列数＝特徴量分のパラメータを求める\n",
    "    w = np.random.randn(X.shape[1])\n",
    "\n",
    "    # 内積を求める\n",
    "    return np.dot(X, w)"
   ]
  },
  {
   "cell_type": "code",
   "execution_count": 58,
   "metadata": {},
   "outputs": [],
   "source": [
    "PHI = _linear_hypothesis(X)"
   ]
  },
  {
   "cell_type": "code",
   "execution_count": 59,
   "metadata": {},
   "outputs": [
    {
     "data": {
      "text/plain": [
       "array([-0.0072231 ,  0.1917061 ,  0.12312756,  0.00351618, -0.36198813,\n",
       "       -0.75530626, -1.21255366, -1.53632365, -1.55076984, -1.3946263 ])"
      ]
     },
     "execution_count": 59,
     "metadata": {},
     "output_type": "execute_result"
    }
   ],
   "source": [
    "PHI"
   ]
  },
  {
   "cell_type": "code",
   "execution_count": 64,
   "metadata": {},
   "outputs": [],
   "source": [
    "def MSE(y_pred, y):\n",
    "    \"\"\"\n",
    "    平均二乗誤差の計算\n",
    "\n",
    "    Parameters\n",
    "    ----------\n",
    "    y_pred : 次の形のndarray, shape (n_samples,)\n",
    "      推定した値\n",
    "    y : 次の形のndarray, shape (n_samples,)\n",
    "      正解値\n",
    "\n",
    "    Returns\n",
    "    ----------\n",
    "    mse : numpy.float\n",
    "      平均二乗誤差\n",
    "    \"\"\"\n",
    "    mse = np.sum((y-y_pred)**2)\n",
    "    return mse"
   ]
  },
  {
   "cell_type": "code",
   "execution_count": null,
   "metadata": {},
   "outputs": [],
   "source": []
  }
 ],
 "metadata": {
  "kernelspec": {
   "display_name": "Python 3",
   "language": "python",
   "name": "python3"
  },
  "language_info": {
   "codemirror_mode": {
    "name": "ipython",
    "version": 3
   },
   "file_extension": ".py",
   "mimetype": "text/x-python",
   "name": "python",
   "nbconvert_exporter": "python",
   "pygments_lexer": "ipython3",
   "version": "3.6.8"
  }
 },
 "nbformat": 4,
 "nbformat_minor": 2
}
