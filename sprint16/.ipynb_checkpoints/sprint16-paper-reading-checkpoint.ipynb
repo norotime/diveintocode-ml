{
 "cells": [
  {
   "cell_type": "markdown",
   "metadata": {},
   "source": [
    "# 論文読解\n",
    "\n",
    "## Triangular Architecture for Rare Language Translation\n",
    "\n",
    "Neural Machine Translation（NMT）は、稀少な言語ペア（X、Z）で、Zが稀少であるほど、パフォーマンスが低下する。\n",
    "\n",
    "この問題を解決するために、情報が豊富な言語Yを導入して翻訳性能を向上させ、バイリンガルデータ（Y、Z）や（X、Y）を活用する新しいトライアングルトレーニングアーキテクチャ（TA-NMT）を提案する。\n",
    "\n",
    "トライアングルアーキテクチャでは、Zを中間潜在変数とし、Zの並進モデルは、（X、Y）の並進類似度を最大にするという目標の下で、統一双方向EMアルゴリズムと共同で最適化する。\n",
    "\n",
    "実験の結果、この方法がMultiUNとIWSLT2012データセット上の希少言語の翻訳品質を著しく改善することができた。そして、逆翻訳方法を組み合わせることで、さらに良い性能を出することを実証した。\n",
    "\n",
    "## 出典元\n",
    "### 論文\n",
    "http://aclweb.org/anthology/P18-1006\n",
    "\n",
    "### 動画\n",
    "https://vimeo.com/285807823"
   ]
  },
  {
   "cell_type": "markdown",
   "metadata": {},
   "source": [
    "## 概要\n",
    "\n",
    "Neural Machine Translation（NMT）は、特にZがまれな言語である場合、低リソース言語ペア（X、Z）ではうまく機能しない。\n",
    "\n",
    "この問題を解決するために、もう1つの豊富な言語Yを導入することによって、低リソースペアの翻訳パフォーマンスを向上させるために、バイリンガルデータ（Y、Z）（小さい場合もあります）および（X、Y）（豊富な場合があります）を許容する新しいトライアングルトレーニングアーキテクチャ（TA-NMT）を提案する。\n",
    "\n",
    "このトライアングルアーキテクチャでは、Zが中間潜在変数とみなされ、Zの変換モデルは、（X、Y）の変換尤度を最大にする目的で、統一双方向EMアルゴリズムと共同で最適化される。\n",
    "\n",
    "実験の結果、この方法がＭｕｌｔｕＮおよびＩＷＳＬＴ２０１２データセット上の希少言語の翻訳品質を著しく改善し、そして逆翻訳方法を組み合わせてさらに良好な性能を達成することを実証した。"
   ]
  },
  {
   "cell_type": "markdown",
   "metadata": {},
   "source": [
    "## 導入\n",
    "\n",
    "近年、Neural Machine Translation（NMT）（Kalchbrenner and Blunsom、2013; Sutskever et al。、2014; Bahdanau et al。、2014）は、多くの翻訳作業において驚くべきパフォーマンスを達成している（Jean et al。、2015; Sennrichet et al。 2016; Wuら、2016; Sennrichら、2017）。\n",
    "\n",
    "これは、エンドツーエンドのアーキテクチャであるため、NMTシステムは最初に入力文を一連の実数ベクトルに符号化し、それに基づいてデコーダは注目メカニズムを用いて単語単位でターゲットシーケンスを生成する（Bahdanauet et al。、2014; Luong et al。、2015）。 \n",
    "\n",
    "NMTは、トレーニング中、最大尤度推定（ＭＬＥ）法を用いて所与の言語対の翻訳確率を最大化するように最適化されるため、大きなパラメータ空間に適合する大きなバイリンガルデータを必要とする。\n",
    "\n",
    "適切なデータがないと、これは特にまれな言語になると特に、NMTは通常リソースの少ない言語ペアには向いていない（Zoph et al。、2016）。"
   ]
  }
 ],
 "metadata": {
  "kernelspec": {
   "display_name": "Python 3",
   "language": "python",
   "name": "python3"
  },
  "language_info": {
   "codemirror_mode": {
    "name": "ipython",
    "version": 3
   },
   "file_extension": ".py",
   "mimetype": "text/x-python",
   "name": "python",
   "nbconvert_exporter": "python",
   "pygments_lexer": "ipython3",
   "version": "3.6.8"
  }
 },
 "nbformat": 4,
 "nbformat_minor": 2
}
